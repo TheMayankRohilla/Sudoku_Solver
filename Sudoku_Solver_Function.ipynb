{
 "cells": [
  {
   "cell_type": "code",
   "execution_count": 1,
   "id": "initial_id",
   "metadata": {
    "collapsed": true,
    "ExecuteTime": {
     "end_time": "2024-06-29T07:14:02.039215Z",
     "start_time": "2024-06-29T07:14:01.812133Z"
    }
   },
   "outputs": [
    {
     "name": "stdout",
     "output_type": "stream",
     "text": [
      "Sudoku solved successfully!\n",
      "[[5 3 4 6 7 8 9 1 2]\n",
      " [6 7 2 1 9 5 3 4 8]\n",
      " [1 9 8 3 4 2 5 6 7]\n",
      " [8 5 9 7 6 1 4 2 3]\n",
      " [4 2 6 8 5 3 7 9 1]\n",
      " [7 1 3 9 2 4 8 5 6]\n",
      " [9 6 1 5 3 7 2 8 4]\n",
      " [2 8 7 4 1 9 6 3 5]\n",
      " [3 4 5 2 8 6 1 7 9]]\n"
     ]
    }
   ],
   "source": [
    "import numpy as np\n",
    "\n",
    "def is_valid(board, row, col, num):\n",
    "    # Check if 'num' is not in the current row\n",
    "    if num in board[row, :]:\n",
    "        return False\n",
    "    # Check if 'num' is not in the current column\n",
    "    if num in board[:, col]:\n",
    "        return False\n",
    "    # Check if 'num' is not in the current 3x3 subgrid\n",
    "    start_row, start_col = 3 * (row // 3), 3 * (col // 3)\n",
    "    if num in board[start_row:start_row + 3, start_col:start_col + 3]:\n",
    "        return False\n",
    "    return True\n",
    "\n",
    "def solve_sudoku(board):\n",
    "    empty = np.where(board == 0)\n",
    "    if len(empty[0]) == 0:  # No empty cells, puzzle solved\n",
    "        return True\n",
    "    \n",
    "    row, col = empty[0][0], empty[1][0]\n",
    "\n",
    "    for num in range(1, 10):\n",
    "        if is_valid(board, row, col, num):\n",
    "            board[row, col] = num\n",
    "            if solve_sudoku(board):\n",
    "                return True\n",
    "            board[row, col] = 0  # Reset cell and backtrack\n",
    "\n",
    "    return False\n",
    "\n",
    "# Example usage\n",
    "sudoku_grid = np.array([\n",
    "    [5, 3, 0, 0, 7, 0, 0, 0, 0],\n",
    "    [6, 0, 0, 1, 9, 5, 0, 0, 0],\n",
    "    [0, 9, 8, 0, 0, 0, 0, 6, 0],\n",
    "    [8, 0, 0, 0, 6, 0, 0, 0, 3],\n",
    "    [4, 0, 0, 8, 0, 3, 0, 0, 1],\n",
    "    [7, 0, 0, 0, 2, 0, 0, 0, 6],\n",
    "    [0, 6, 0, 0, 0, 0, 2, 8, 0],\n",
    "    [0, 0, 0, 4, 1, 9, 0, 0, 5],\n",
    "    [0, 0, 0, 0, 8, 0, 0, 7, 9]\n",
    "])\n",
    "\n",
    "if solve_sudoku(sudoku_grid):\n",
    "    print(\"Sudoku solved successfully!\")\n",
    "    print(sudoku_grid)\n",
    "else:\n",
    "    print(\"No solution exists.\")\n"
   ]
  },
  {
   "cell_type": "code",
   "outputs": [],
   "source": [],
   "metadata": {
    "collapsed": false
   },
   "id": "b05849a2c886ac10"
  }
 ],
 "metadata": {
  "kernelspec": {
   "display_name": "Python 3",
   "language": "python",
   "name": "python3"
  },
  "language_info": {
   "codemirror_mode": {
    "name": "ipython",
    "version": 2
   },
   "file_extension": ".py",
   "mimetype": "text/x-python",
   "name": "python",
   "nbconvert_exporter": "python",
   "pygments_lexer": "ipython2",
   "version": "2.7.6"
  }
 },
 "nbformat": 4,
 "nbformat_minor": 5
}
