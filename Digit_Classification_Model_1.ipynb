{
 "cells": [
  {
   "cell_type": "markdown",
   "source": [
    "# Sudoku Solver"
   ],
   "metadata": {
    "collapsed": false
   },
   "id": "6f477664cda44137"
  },
  {
   "cell_type": "code",
   "outputs": [],
   "source": [
    "# Necessary Imports\n",
    "\n",
    "import numpy as np \n",
    "import pandas as pd\n",
    "import seaborn as sns\n",
    "import matplotlib.pyplot as plt\n",
    "import os, random\n",
    "import cv2\n",
    "from glob import glob"
   ],
   "metadata": {
    "collapsed": false
   },
   "id": "bc814732009bd16d",
   "execution_count": null
  },
  {
   "cell_type": "markdown",
   "source": [
    "# Step 1 : Building Digit Classification Model"
   ],
   "metadata": {
    "collapsed": false
   },
   "id": "c6c42fab0376f3dd"
  },
  {
   "cell_type": "markdown",
   "source": [
    "## Loading the Dataset"
   ],
   "metadata": {
    "collapsed": false
   },
   "id": "424113ed6f8c8050"
  },
  {
   "cell_type": "code",
   "outputs": [],
   "source": [
    "path = r\"../Digits_Dataset/digits updated\"\n",
    "data = os.listdir(path)\n",
    "\n",
    "data_X = []     \n",
    "data_y = [] \n",
    "\n",
    "data_classes = len(data)\n",
    "# print(data_classes)\n",
    "\n",
    "for i in range (0,data_classes):\n",
    "    data_list = os.listdir(path +\"/\"+str(i))\n",
    "    # print(len(data_list))\n",
    "    for j in data_list:\n",
    "        pic = cv2.imread(path +\"/\"+str(i)+\"/\"+j)\n",
    "        pic = cv2.resize(pic,(32,32))\n",
    "        data_X.append(pic)\n",
    "        data_y.append(i)\n",
    "# plt.imshow(data_X[-5040])\n",
    "# print(data_y[-5040])\n",
    "\n",
    "\n",
    "if len(data_X) == len(data_y) :\n",
    "    print(\"Total Dataponits = \",len(data_X))\n",
    "\n",
    "# Labels and images\n",
    "data_X = np.array(data_X)\n",
    "data_y = np.array(data_y)"
   ],
   "metadata": {
    "collapsed": false
   },
   "id": "470f1f5daa8751b8",
   "execution_count": null
  },
  {
   "cell_type": "code",
   "outputs": [],
   "source": [
    "import random\n",
    "\n",
    "from sklearn.utils import shuffle\n",
    "data_X, data_y = shuffle(data_X, data_y)\n",
    "\n",
    "# temp_list = data_X;\n",
    "# random.shuffle(temp_list)\n",
    "\n",
    "plt.figure(figsize=(10, 10))\n",
    "for i in range(8000, 8025):\n",
    "    plt.subplot(5, 5, i+1-8000)\n",
    "    plt.xticks([])\n",
    "    plt.yticks([])\n",
    "    plt.grid(False)\n",
    "    plt.imshow(data_X[i])\n",
    "    plt.xlabel(str(data_y[i]))\n",
    "plt.show()"
   ],
   "metadata": {
    "collapsed": false
   },
   "id": "fb09f30671851a34",
   "execution_count": null
  },
  {
   "cell_type": "markdown",
   "source": [
    "## Splitting the Dataset"
   ],
   "metadata": {
    "collapsed": false
   },
   "id": "e128c032dd50fe53"
  },
  {
   "cell_type": "code",
   "outputs": [],
   "source": [
    "from sklearn.model_selection import train_test_split\n",
    "\n",
    "train_X, test_X, train_y, test_y = train_test_split(data_X,data_y,test_size=0.05)\n",
    "train_X, valid_X, train_y, valid_y = train_test_split(train_X,train_y,test_size=0.2)\n",
    "\n",
    "print(\"Training Set Shape = \",train_X.shape, \" ; Percentage : \", round(train_X.shape[0]/len(data_X) * 100, 2),\"%\")\n",
    "print(\"Validation Set Shape = \",valid_X.shape, \" ; Percentage : \", round(valid_X.shape[0]/len(data_X) * 100, 2),\"%\")\n",
    "print(\"Test Set Shape = \",test_X.shape, \" ; Percentage : \", round(test_X.shape[0]/len(data_X) * 100, 2),\"%\")"
   ],
   "metadata": {
    "collapsed": false
   },
   "id": "3ee787f8b16679df",
   "execution_count": null
  },
  {
   "cell_type": "markdown",
   "source": [
    "## Preprocessing the Image"
   ],
   "metadata": {
    "collapsed": false
   },
   "id": "9f6f71cba137bb62"
  },
  {
   "cell_type": "code",
   "outputs": [],
   "source": [
    "from keras.src.legacy.preprocessing.image import ImageDataGenerator\n",
    "\n",
    "# Preprocessing the images for neuralnet\n",
    "\n",
    "def Prep(img):\n",
    "    img = cv2.cvtColor(img,cv2.COLOR_BGR2GRAY) #making image grayscale\n",
    "    img = cv2.equalizeHist(img) #Histogram equalization to enhance contrast\n",
    "    img = img/255 #normalizing\n",
    "    return img\n",
    "\n",
    "# map function : map() function returns a map object(which is an iterator) of the results after applying the given function to each item of a given iterable (list, tuple etc.)\n",
    "\n",
    "train_X = np.array(list(map(Prep, train_X)))\n",
    "test_X = np.array(list(map(Prep, test_X)))\n",
    "valid_X= np.array(list(map(Prep, valid_X)))\n",
    "\n",
    "\n",
    "\n",
    "# Reshaping the images\n",
    "# The reshaping step adjusts the dimensions of the images to include a channel dimension (necessary for neural networks):\n",
    "\n",
    "train_X = train_X.reshape(train_X.shape[0], train_X.shape[1], train_X.shape[2],1)\n",
    "test_X = test_X.reshape(test_X.shape[0], test_X.shape[1], test_X.shape[2],1)\n",
    "valid_X = valid_X.reshape(valid_X.shape[0], valid_X.shape[1], valid_X.shape[2],1)\n",
    "\n",
    "# Augmentation\n",
    "datagen = ImageDataGenerator(width_shift_range=0.1, height_shift_range=0.1, zoom_range=0.2, shear_range=0.1, rotation_range=10)\n",
    "datagen.fit(train_X)"
   ],
   "metadata": {
    "collapsed": false
   },
   "id": "8d07167df86b9ce1",
   "execution_count": null
  },
  {
   "cell_type": "code",
   "outputs": [],
   "source": [
    "from keras.src.utils import to_categorical\n",
    "\n",
    "# One hot encoding of the labels\n",
    "\n",
    "train_y = to_categorical(train_y, data_classes)\n",
    "test_y = to_categorical(test_y, data_classes)\n",
    "valid_y = to_categorical(valid_y, data_classes)"
   ],
   "metadata": {
    "collapsed": false
   },
   "id": "9356d2f6c5fdb429",
   "execution_count": null
  },
  {
   "cell_type": "markdown",
   "source": [
    "## Model Building\n",
    "\n",
    "### Normal Model made from scratch"
   ],
   "metadata": {
    "collapsed": false
   },
   "id": "bde7978216c35ed1"
  },
  {
   "cell_type": "code",
   "outputs": [],
   "source": [
    "from keras.src.layers import Conv2D, MaxPooling2D, Dropout, Flatten, Dense\n",
    "from keras import Sequential\n",
    "\n",
    "#Creating a Neural Network\n",
    "\n",
    "model = Sequential()\n",
    "\n",
    "model.add((Conv2D(60,(5,5),input_shape=(32, 32, 1) ,padding = 'Same' ,activation='relu')))\n",
    "model.add((Conv2D(60, (5,5),padding=\"same\",activation='relu')))\n",
    "model.add(MaxPooling2D(pool_size=(2,2)))\n",
    "#model.add(Dropout(0.25))\n",
    "\n",
    "model.add((Conv2D(30, (3,3),padding=\"same\", activation='relu')))\n",
    "model.add((Conv2D(30, (3,3), padding=\"same\", activation='relu')))\n",
    "model.add(MaxPooling2D(pool_size=(2,2), strides=(2,2)))\n",
    "model.add(Dropout(0.5))\n",
    "\n",
    "model.add(Flatten())\n",
    "model.add(Dense(500,activation='relu'))\n",
    "model.add(Dropout(0.5))\n",
    "model.add(Dense(10, activation='softmax'))\n",
    "\n",
    "model.summary()"
   ],
   "metadata": {
    "collapsed": false
   },
   "id": "c1417ca07e88bb88",
   "execution_count": null
  },
  {
   "cell_type": "code",
   "outputs": [],
   "source": [
    "from tensorflow.keras.optimizers import RMSprop\n",
    "\n",
    "#Compiling the model\n",
    "\n",
    "optimizer = RMSprop(learning_rate =0.001, rho=0.9, epsilon = 1e-08, decay=0.0)\n",
    "model.compile(optimizer=optimizer,loss='categorical_crossentropy',metrics=['accuracy'])\n",
    "\n",
    "#Fit the model\n",
    "\n",
    "history = model.fit(datagen.flow(train_X, train_y, batch_size=32),\n",
    "                              epochs = 30, validation_data = (valid_X, valid_y),\n",
    "                              verbose = 2, steps_per_epoch= 200)"
   ],
   "metadata": {
    "collapsed": false
   },
   "id": "cf699fc10e8c47a0",
   "execution_count": null
  },
  {
   "cell_type": "code",
   "outputs": [],
   "source": [
    "# Testing the model on the test set\n",
    "\n",
    "score = model.evaluate(test_X, test_y, verbose=0)\n",
    "print('Test Score = ',score[0])\n",
    "print('Test Accuracy =', score[1])"
   ],
   "metadata": {
    "collapsed": false
   },
   "id": "c27738ac34adb137",
   "execution_count": null
  },
  {
   "cell_type": "code",
   "outputs": [],
   "source": [
    "plt.plot(history.history['accuracy'],color='red',label='train')\n",
    "plt.plot(history.history['val_accuracy'],color='blue',label='validation')\n",
    "plt.legend()\n",
    "plt.show()"
   ],
   "metadata": {
    "collapsed": false
   },
   "id": "5fcd1c10b49c1a67",
   "execution_count": null
  },
  {
   "cell_type": "code",
   "outputs": [],
   "source": [
    "model.save('model_1.h5')"
   ],
   "metadata": {
    "collapsed": false
   },
   "id": "71df1cd78b62eee1",
   "execution_count": null
  },
  {
   "cell_type": "code",
   "outputs": [
    {
     "name": "stdout",
     "output_type": "stream",
     "text": [
      "\u001B[1m1/1\u001B[0m \u001B[32m━━━━━━━━━━━━━━━━━━━━\u001B[0m\u001B[37m\u001B[0m \u001B[1m0s\u001B[0m 211ms/step\n",
      "6\n"
     ]
    }
   ],
   "source": [
    "img = cv2.imread('C:/Users/Mayank/OneDrive/Pictures/Screenshots/Screenshot 2024-06-28 231224.png')\n",
    "img = cv2.resize(img,(32,32))\n",
    "\n",
    "img = Prep(img)\n",
    "img = np.array(img)\n",
    "\n",
    "img = img.reshape(1, 32, 32, 1)\n",
    "pred = model.predict(img)\n",
    "clas = pred.argmax()\n",
    "\n",
    "print(clas)"
   ],
   "metadata": {
    "collapsed": false,
    "ExecuteTime": {
     "end_time": "2024-06-28T17:42:58.879493Z",
     "start_time": "2024-06-28T17:42:58.508704Z"
    }
   },
   "id": "a4192aafd4fbbc88",
   "execution_count": 14
  },
  {
   "cell_type": "code",
   "outputs": [],
   "source": [],
   "metadata": {
    "collapsed": false
   },
   "id": "3d4800dd2f3ad59e",
   "execution_count": null
  }
 ],
 "metadata": {
  "kernelspec": {
   "display_name": "Python 3",
   "language": "python",
   "name": "python3"
  },
  "language_info": {
   "codemirror_mode": {
    "name": "ipython",
    "version": 2
   },
   "file_extension": ".py",
   "mimetype": "text/x-python",
   "name": "python",
   "nbconvert_exporter": "python",
   "pygments_lexer": "ipython2",
   "version": "2.7.6"
  }
 },
 "nbformat": 4,
 "nbformat_minor": 5
}
